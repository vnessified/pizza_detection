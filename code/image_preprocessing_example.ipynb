{
 "cells": [
  {
   "cell_type": "markdown",
   "metadata": {},
   "source": [
    "### Image preprocessing\n",
    "An example of image preprocessing using Keras ImageDataGenerator class."
   ]
  },
  {
   "cell_type": "code",
   "execution_count": 2,
   "metadata": {
    "collapsed": false
   },
   "outputs": [
    {
     "name": "stderr",
     "output_type": "stream",
     "text": [
      "Using TensorFlow backend.\n"
     ]
    }
   ],
   "source": [
    "# general imports\n",
    "import os, glob, fnmatch\n",
    "import pandas as pd\n",
    "import numpy as np\n",
    "\n",
    "# image processing imports\n",
    "from keras.preprocessing.image import ImageDataGenerator, array_to_img, img_to_array, load_img"
   ]
  },
  {
   "cell_type": "markdown",
   "metadata": {},
   "source": [
    "---\n",
    "## <a name=\"e\">ImageDataGenerator</a>\n",
    "Augments the images via random transformations so the model generalizes better."
   ]
  },
  {
   "cell_type": "code",
   "execution_count": 3,
   "metadata": {
    "collapsed": false
   },
   "outputs": [],
   "source": [
    "# example of transformations\n",
    "datagen = ImageDataGenerator(\n",
    "    \n",
    "        #integer value range in degrees(0-180) to randomly rotate images\n",
    "        rotation_range=40,\n",
    "    \n",
    "        rescale=1./255,\n",
    "    \n",
    "        #width_shift & height_shift are float ranges (as fraction of total width or height)\n",
    "        #within which to randomly translate/shift\n",
    "        width_shift_range=0.2,\n",
    "        height_shift_range=0.2,\n",
    "    \n",
    "        #randomly applying shearing transformations\n",
    "        shear_range=0.2,\n",
    "    \n",
    "        #randomly zooming inside pictures\n",
    "        zoom_range=0.2,\n",
    "    \n",
    "        #randomly flips half of the images horizontally\n",
    "        #relevant when no assumptions of horizontal assymetry - ie real-world pictures\n",
    "        horizontal_flip=True,\n",
    "    \n",
    "        #strategy for filling newly created pixels\n",
    "        fill_mode='nearest')"
   ]
  },
  {
   "cell_type": "code",
   "execution_count": 5,
   "metadata": {
    "collapsed": true
   },
   "outputs": [],
   "source": [
    "# load PIL image with keras helper function\n",
    "img = load_img('/Users/VanessaG/Desktop/pizza_class_data/train/pizza/40449.jpg') \n",
    "\n",
    "# convert to numpy array \n",
    "x = img_to_array(img)\n",
    "\n",
    "# reshape numpy array - required for keras\n",
    "x = x.reshape((1,) + x.shape)"
   ]
  },
  {
   "cell_type": "code",
   "execution_count": 9,
   "metadata": {
    "collapsed": false
   },
   "outputs": [],
   "source": [
    "# .flow() generates batches of randomly transformed images and saves the resulting images to the specified directory\n",
    "i = 0\n",
    "for batch in datagen.flow(x, batch_size=1, save_to_dir='../images/example_transformations/', save_prefix='pizza', save_format='jpg'):\n",
    "    i += 1\n",
    "    if i > 20:\n",
    "        # otherwise the generator would loop indefinitely\n",
    "        break  "
   ]
  },
  {
   "cell_type": "code",
   "execution_count": null,
   "metadata": {
    "collapsed": true
   },
   "outputs": [],
   "source": []
  }
 ],
 "metadata": {
  "kernelspec": {
   "display_name": "Python 2",
   "language": "python",
   "name": "python2"
  },
  "language_info": {
   "codemirror_mode": {
    "name": "ipython",
    "version": 2
   },
   "file_extension": ".py",
   "mimetype": "text/x-python",
   "name": "python",
   "nbconvert_exporter": "python",
   "pygments_lexer": "ipython2",
   "version": "2.7.11"
  }
 },
 "nbformat": 4,
 "nbformat_minor": 0
}
