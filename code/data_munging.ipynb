{
 "cells": [
  {
   "cell_type": "markdown",
   "metadata": {},
   "source": [
    "### Data munging\n",
    "Creates a csv file from info on the image data."
   ]
  },
  {
   "cell_type": "code",
   "execution_count": 1,
   "metadata": {
    "collapsed": false
   },
   "outputs": [],
   "source": [
    "# general imports\n",
    "import os, glob, fnmatch\n",
    "import pandas as pd\n",
    "import numpy as np\n",
    "\n",
    "# image processing imports\n",
    "import cv2"
   ]
  },
  {
   "cell_type": "markdown",
   "metadata": {},
   "source": [
    "---\n",
    "## Create dataframe\n",
    "Creates a dataframe from RGB, HSV, image height & width image data using OpenCV methods and `.shape`."
   ]
  },
  {
   "cell_type": "code",
   "execution_count": 2,
   "metadata": {
    "collapsed": true
   },
   "outputs": [],
   "source": [
    "# create list of all the image filepaths\n",
    "images = []\n",
    "for root, dirnames, filenames in os.walk('/Users/VanessaG/Desktop/pizza_class_data/'):\n",
    "    for filename in fnmatch.filter(filenames, '*.jpg'):\n",
    "        images.append(os.path.join(root, filename))"
   ]
  },
  {
   "cell_type": "code",
   "execution_count": null,
   "metadata": {
    "collapsed": true
   },
   "outputs": [],
   "source": [
    "# create lists for dataframe of image info - rgb, hsv, image height & width\n",
    "data = []\n",
    "for img in images:\n",
    "    image = cv2.imread(img)\n",
    "    data.append(cv2.normalize(image, alpha=0, beta=1, norm_type=cv2.NORM_MINMAX, dtype=cv2.CV_32F))\n",
    "    \n",
    "rgb_means = []\n",
    "hsv_means = []\n",
    "img_height = []\n",
    "img_width = [] \n",
    "\n",
    "for i in data:\n",
    "    means = cv2.mean(cv2.cvtColor(i, cv2.COLOR_BGR2RGB))[:3]\n",
    "    rgb_means.append(means)\n",
    "    means2 = cv2.mean(cv2.cvtColor(i, cv2.COLOR_BGR2HSV))[:3]\n",
    "    hsv_means.append(means2)\n",
    "    img_height.append(i.shape[0])\n",
    "    img_width.append(i.shape[1])"
   ]
  },
  {
   "cell_type": "code",
   "execution_count": null,
   "metadata": {
    "collapsed": true
   },
   "outputs": [],
   "source": [
    "# create dataframes from the lists above\n",
    "df1 = pd.DataFrame(rgb_means, columns=['red', 'green', 'blue'])\n",
    "df2 = pd.DataFrame(hsv_means, columns=['hue', 'sat', 'val'])\n",
    "df = pd.concat([df1, df2], axis=1)"
   ]
  },
  {
   "cell_type": "code",
   "execution_count": 5,
   "metadata": {
    "collapsed": true
   },
   "outputs": [],
   "source": [
    "# just nice to have - used to display images in EDA\n",
    "df['full_path'] = images"
   ]
  },
  {
   "cell_type": "code",
   "execution_count": 6,
   "metadata": {
    "collapsed": true
   },
   "outputs": [],
   "source": [
    "# 0 is not pizza, 1 is pizza\n",
    "df['label'] = df.full_path.map(lambda x: 0 if '/not_pizza/' in x else 1)"
   ]
  },
  {
   "cell_type": "code",
   "execution_count": 7,
   "metadata": {
    "collapsed": true
   },
   "outputs": [],
   "source": [
    "# basically confirming labels are correct\n",
    "df['short_path'] = df['full_path'].replace({'/Users/VanessaG/Desktop/pizza_class_data/': ''}, regex=True)"
   ]
  },
  {
   "cell_type": "code",
   "execution_count": 8,
   "metadata": {
    "collapsed": true
   },
   "outputs": [],
   "source": [
    "# add in width, height, total pixels and re-order columns\n",
    "df['img_height'] = img_height\n",
    "df['img_width'] = img_width\n",
    "df['total_px'] = df.img_height * df.img_width\n",
    "df = df[['label', 'red', 'green', 'blue','hue', 'sat', 'val', 'img_height', 'img_width', 'total_px', 'short_path', 'full_path']]"
   ]
  },
  {
   "cell_type": "code",
   "execution_count": 9,
   "metadata": {
    "collapsed": false
   },
   "outputs": [
    {
     "data": {
      "text/html": [
       "<div>\n",
       "<table border=\"1\" class=\"dataframe\">\n",
       "  <thead>\n",
       "    <tr style=\"text-align: right;\">\n",
       "      <th></th>\n",
       "      <th>label</th>\n",
       "      <th>red</th>\n",
       "      <th>green</th>\n",
       "      <th>blue</th>\n",
       "      <th>hue</th>\n",
       "      <th>sat</th>\n",
       "      <th>val</th>\n",
       "      <th>img_height</th>\n",
       "      <th>img_width</th>\n",
       "      <th>total_px</th>\n",
       "    </tr>\n",
       "  </thead>\n",
       "  <tbody>\n",
       "    <tr>\n",
       "      <th>count</th>\n",
       "      <td>4000.000000</td>\n",
       "      <td>4000.000000</td>\n",
       "      <td>4000.000000</td>\n",
       "      <td>4000.000000</td>\n",
       "      <td>4000.000000</td>\n",
       "      <td>4000.000000</td>\n",
       "      <td>4000.000000</td>\n",
       "      <td>4000.000000</td>\n",
       "      <td>4000.00000</td>\n",
       "      <td>4000.000000</td>\n",
       "    </tr>\n",
       "    <tr>\n",
       "      <th>mean</th>\n",
       "      <td>0.500000</td>\n",
       "      <td>0.553316</td>\n",
       "      <td>0.427399</td>\n",
       "      <td>0.319187</td>\n",
       "      <td>77.235804</td>\n",
       "      <td>0.494648</td>\n",
       "      <td>0.567891</td>\n",
       "      <td>446.798500</td>\n",
       "      <td>491.44775</td>\n",
       "      <td>218847.316000</td>\n",
       "    </tr>\n",
       "    <tr>\n",
       "      <th>std</th>\n",
       "      <td>0.500063</td>\n",
       "      <td>0.124527</td>\n",
       "      <td>0.107539</td>\n",
       "      <td>0.120633</td>\n",
       "      <td>43.050021</td>\n",
       "      <td>0.157310</td>\n",
       "      <td>0.120962</td>\n",
       "      <td>75.907809</td>\n",
       "      <td>47.64875</td>\n",
       "      <td>40589.591391</td>\n",
       "    </tr>\n",
       "    <tr>\n",
       "      <th>min</th>\n",
       "      <td>0.000000</td>\n",
       "      <td>0.120030</td>\n",
       "      <td>0.062316</td>\n",
       "      <td>0.007203</td>\n",
       "      <td>14.988055</td>\n",
       "      <td>0.109173</td>\n",
       "      <td>0.120529</td>\n",
       "      <td>195.000000</td>\n",
       "      <td>280.00000</td>\n",
       "      <td>58500.000000</td>\n",
       "    </tr>\n",
       "    <tr>\n",
       "      <th>25%</th>\n",
       "      <td>0.000000</td>\n",
       "      <td>0.470093</td>\n",
       "      <td>0.360606</td>\n",
       "      <td>0.236348</td>\n",
       "      <td>44.379040</td>\n",
       "      <td>0.379470</td>\n",
       "      <td>0.489349</td>\n",
       "      <td>375.000000</td>\n",
       "      <td>500.00000</td>\n",
       "      <td>187500.000000</td>\n",
       "    </tr>\n",
       "    <tr>\n",
       "      <th>50%</th>\n",
       "      <td>0.500000</td>\n",
       "      <td>0.552290</td>\n",
       "      <td>0.428084</td>\n",
       "      <td>0.317322</td>\n",
       "      <td>67.014925</td>\n",
       "      <td>0.479005</td>\n",
       "      <td>0.567740</td>\n",
       "      <td>512.000000</td>\n",
       "      <td>512.00000</td>\n",
       "      <td>196608.000000</td>\n",
       "    </tr>\n",
       "    <tr>\n",
       "      <th>75%</th>\n",
       "      <td>1.000000</td>\n",
       "      <td>0.638385</td>\n",
       "      <td>0.494061</td>\n",
       "      <td>0.398177</td>\n",
       "      <td>100.075006</td>\n",
       "      <td>0.599080</td>\n",
       "      <td>0.648782</td>\n",
       "      <td>512.000000</td>\n",
       "      <td>512.00000</td>\n",
       "      <td>262144.000000</td>\n",
       "    </tr>\n",
       "    <tr>\n",
       "      <th>max</th>\n",
       "      <td>1.000000</td>\n",
       "      <td>0.940668</td>\n",
       "      <td>0.816286</td>\n",
       "      <td>0.758213</td>\n",
       "      <td>312.255124</td>\n",
       "      <td>0.988027</td>\n",
       "      <td>0.940784</td>\n",
       "      <td>639.000000</td>\n",
       "      <td>800.00000</td>\n",
       "      <td>480000.000000</td>\n",
       "    </tr>\n",
       "  </tbody>\n",
       "</table>\n",
       "</div>"
      ],
      "text/plain": [
       "             label          red        green         blue          hue  \\\n",
       "count  4000.000000  4000.000000  4000.000000  4000.000000  4000.000000   \n",
       "mean      0.500000     0.553316     0.427399     0.319187    77.235804   \n",
       "std       0.500063     0.124527     0.107539     0.120633    43.050021   \n",
       "min       0.000000     0.120030     0.062316     0.007203    14.988055   \n",
       "25%       0.000000     0.470093     0.360606     0.236348    44.379040   \n",
       "50%       0.500000     0.552290     0.428084     0.317322    67.014925   \n",
       "75%       1.000000     0.638385     0.494061     0.398177   100.075006   \n",
       "max       1.000000     0.940668     0.816286     0.758213   312.255124   \n",
       "\n",
       "               sat          val   img_height   img_width       total_px  \n",
       "count  4000.000000  4000.000000  4000.000000  4000.00000    4000.000000  \n",
       "mean      0.494648     0.567891   446.798500   491.44775  218847.316000  \n",
       "std       0.157310     0.120962    75.907809    47.64875   40589.591391  \n",
       "min       0.109173     0.120529   195.000000   280.00000   58500.000000  \n",
       "25%       0.379470     0.489349   375.000000   500.00000  187500.000000  \n",
       "50%       0.479005     0.567740   512.000000   512.00000  196608.000000  \n",
       "75%       0.599080     0.648782   512.000000   512.00000  262144.000000  \n",
       "max       0.988027     0.940784   639.000000   800.00000  480000.000000  "
      ]
     },
     "execution_count": 9,
     "metadata": {},
     "output_type": "execute_result"
    }
   ],
   "source": [
    "df.describe()"
   ]
  },
  {
   "cell_type": "code",
   "execution_count": 10,
   "metadata": {
    "collapsed": true
   },
   "outputs": [],
   "source": [
    "# save csv\n",
    "df.to_csv('../data/image_info.csv')"
   ]
  },
  {
   "cell_type": "code",
   "execution_count": null,
   "metadata": {
    "collapsed": true
   },
   "outputs": [],
   "source": []
  }
 ],
 "metadata": {
  "kernelspec": {
   "display_name": "Python 2",
   "language": "python",
   "name": "python2"
  },
  "language_info": {
   "codemirror_mode": {
    "name": "ipython",
    "version": 2
   },
   "file_extension": ".py",
   "mimetype": "text/x-python",
   "name": "python",
   "nbconvert_exporter": "python",
   "pygments_lexer": "ipython2",
   "version": "2.7.11"
  }
 },
 "nbformat": 4,
 "nbformat_minor": 0
}
