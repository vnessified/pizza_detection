{
 "cells": [
  {
   "cell_type": "markdown",
   "metadata": {},
   "source": [
    "### Data setup\n",
    "\n",
    "Creates a directory structure to use with Keras method `.flow_from_directory`."
   ]
  },
  {
   "cell_type": "code",
   "execution_count": 1,
   "metadata": {
    "collapsed": true
   },
   "outputs": [],
   "source": [
    "import glob, os, shutil\n",
    "import pandas as pd\n",
    "import numpy as np\n",
    "from sklearn.cross_validation import train_test_split"
   ]
  },
  {
   "cell_type": "markdown",
   "metadata": {},
   "source": [
    "---\n",
    "## Not pizza images\n",
    "2000 images labeled not pizza, 1600 for train and 800 for validation."
   ]
  },
  {
   "cell_type": "code",
   "execution_count": 2,
   "metadata": {
    "collapsed": false
   },
   "outputs": [],
   "source": [
    "not_pizza = [x for x in glob.glob('/Users/VanessaG/Desktop/food_images/*') if x.endswith('.jpg')]\n",
    "not_pizza = np.random.choice(not_pizza, 2000, replace=False)\n",
    "not_pizza_train, not_pizza_val = train_test_split(not_pizza, train_size=(1600/2000.))"
   ]
  },
  {
   "cell_type": "code",
   "execution_count": 3,
   "metadata": {
    "collapsed": false,
    "scrolled": true
   },
   "outputs": [
    {
     "data": {
      "text/plain": [
       "(1600, 400)"
      ]
     },
     "execution_count": 3,
     "metadata": {},
     "output_type": "execute_result"
    }
   ],
   "source": [
    "len(not_pizza_train), len(not_pizza_val)"
   ]
  },
  {
   "cell_type": "code",
   "execution_count": 4,
   "metadata": {
    "collapsed": false
   },
   "outputs": [],
   "source": [
    "#train set\n",
    "not_pizza_train_dest = '/Users/VanessaG/Desktop/pizza_class_data/train/not_pizza/'\n",
    "for i, image in enumerate(not_pizza_train):\n",
    "    shutil.copy2(image, not_pizza_train_dest)"
   ]
  },
  {
   "cell_type": "code",
   "execution_count": 5,
   "metadata": {
    "collapsed": false
   },
   "outputs": [
    {
     "data": {
      "text/plain": [
       "1600"
      ]
     },
     "execution_count": 5,
     "metadata": {},
     "output_type": "execute_result"
    }
   ],
   "source": [
    "len([x for x in glob.glob('/Users/VanessaG/Desktop/pizza_class_data/train/not_pizza/*')])"
   ]
  },
  {
   "cell_type": "code",
   "execution_count": 6,
   "metadata": {
    "collapsed": false,
    "scrolled": true
   },
   "outputs": [],
   "source": [
    "#validation set\n",
    "not_pizza_val_dest = '/Users/VanessaG/Desktop/pizza_class_data/validation/not_pizza/'\n",
    "for i, image in enumerate(not_pizza_val):\n",
    "    shutil.copy2(image, not_pizza_val_dest)"
   ]
  },
  {
   "cell_type": "code",
   "execution_count": 7,
   "metadata": {
    "collapsed": false
   },
   "outputs": [
    {
     "data": {
      "text/plain": [
       "400"
      ]
     },
     "execution_count": 7,
     "metadata": {},
     "output_type": "execute_result"
    }
   ],
   "source": [
    "len([x for x in glob.glob('/Users/VanessaG/Desktop/pizza_class_data/validation/not_pizza/*') if x.endswith('.jpg')])"
   ]
  },
  {
   "cell_type": "markdown",
   "metadata": {},
   "source": [
    "---\n",
    "## Pizza images\n",
    "2000 images labeled not pizza, 1600 for train and 800 for validation."
   ]
  },
  {
   "cell_type": "code",
   "execution_count": 8,
   "metadata": {
    "collapsed": true
   },
   "outputs": [],
   "source": [
    "moar_pizza = [x for x in glob.glob('/Users/VanessaG/Desktop/moar_pizza/*') if x.endswith('.jpg')]\n",
    "#remove files less than 5kb\n",
    "for f in moar_pizza:\n",
    "    if (os.path.getsize(f)/1024. < 5):\n",
    "        os.remove(f)\n",
    "    "
   ]
  },
  {
   "cell_type": "code",
   "execution_count": 9,
   "metadata": {
    "collapsed": true
   },
   "outputs": [],
   "source": [
    "pizza = [x for x in glob.glob('/Users/VanessaG/Desktop/DSI-SF-2-vnessified/capstone/data_sources/food-101/images/pizza/*') if x.endswith('.jpg')]"
   ]
  },
  {
   "cell_type": "code",
   "execution_count": 10,
   "metadata": {
    "collapsed": true
   },
   "outputs": [],
   "source": [
    "all_pizza = pizza + moar_pizza\n",
    "pizza = np.random.choice(all_pizza, 2000, replace=False)\n",
    "pizza_train, pizza_val = train_test_split(pizza, train_size=(1600/2000.))"
   ]
  },
  {
   "cell_type": "code",
   "execution_count": 11,
   "metadata": {
    "collapsed": false
   },
   "outputs": [
    {
     "data": {
      "text/plain": [
       "(1600, 400)"
      ]
     },
     "execution_count": 11,
     "metadata": {},
     "output_type": "execute_result"
    }
   ],
   "source": [
    "len(pizza_train), len(pizza_val)"
   ]
  },
  {
   "cell_type": "code",
   "execution_count": 12,
   "metadata": {
    "collapsed": false
   },
   "outputs": [],
   "source": [
    "#train set\n",
    "pizza_train_dest = '/Users/VanessaG/Desktop/pizza_class_data/train/pizza/'\n",
    "for i, image in enumerate(pizza_train):\n",
    "    shutil.copy2(image, pizza_train_dest)"
   ]
  },
  {
   "cell_type": "code",
   "execution_count": 13,
   "metadata": {
    "collapsed": false
   },
   "outputs": [
    {
     "data": {
      "text/plain": [
       "1600"
      ]
     },
     "execution_count": 13,
     "metadata": {},
     "output_type": "execute_result"
    }
   ],
   "source": [
    "len([x for x in glob.glob('/Users/VanessaG/Desktop/pizza_class_data/train/pizza/*') if x.endswith('.jpg')])"
   ]
  },
  {
   "cell_type": "code",
   "execution_count": 14,
   "metadata": {
    "collapsed": false
   },
   "outputs": [],
   "source": [
    "#for validation folder\n",
    "pizza_val_dest = '/Users/VanessaG/Desktop/pizza_class_data/validation/pizza/'\n",
    "for i, image in enumerate(pizza_val):\n",
    "    shutil.copy2(image, pizza_val_dest)"
   ]
  },
  {
   "cell_type": "code",
   "execution_count": 15,
   "metadata": {
    "collapsed": false
   },
   "outputs": [
    {
     "data": {
      "text/plain": [
       "400"
      ]
     },
     "execution_count": 15,
     "metadata": {},
     "output_type": "execute_result"
    }
   ],
   "source": [
    "len([x for x in glob.glob('/Users/VanessaG/Desktop/pizza_class_data/validation/pizza/*') if x.endswith('.jpg')])"
   ]
  }
 ],
 "metadata": {
  "kernelspec": {
   "display_name": "Python 2",
   "language": "python",
   "name": "python2"
  },
  "language_info": {
   "codemirror_mode": {
    "name": "ipython",
    "version": 2
   },
   "file_extension": ".py",
   "mimetype": "text/x-python",
   "name": "python",
   "nbconvert_exporter": "python",
   "pygments_lexer": "ipython2",
   "version": "2.7.11"
  }
 },
 "nbformat": 4,
 "nbformat_minor": 0
}
