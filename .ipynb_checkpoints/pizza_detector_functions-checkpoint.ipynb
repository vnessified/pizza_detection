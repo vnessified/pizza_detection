{
 "cells": [
  {
   "cell_type": "code",
   "execution_count": 1,
   "metadata": {
    "collapsed": true
   },
   "outputs": [],
   "source": [
    "def img_plots(fig_h, path_list, label_df, x_label, variable_df, plot_title):\n",
    "    sns.set_style(\"white\")\n",
    "    fig, ax = plt.subplots(1,5,figsize=(16,fig_h))\n",
    "    \n",
    "    images_plot = []\n",
    "    \n",
    "    for img in path_list[:5]:\n",
    "        image = cv2.imread(img)\n",
    "        image_rgb = cv2.cvtColor(image, cv2.COLOR_BGR2RGB)\n",
    "        images_plot.append(image_rgb)\n",
    "    \n",
    "    for i in range(5):\n",
    "        plt.subplot(1,5,i+1)\n",
    "        plt.xticks([], [])\n",
    "        plt.yticks([], [])\n",
    "        plt.imshow(images_plot[i])\n",
    "        label = 'not pizza' if label_df.values[i] == 0 else 'pizza'\n",
    "        plt.title(label, size=16)\n",
    "        plt.xlabel(x_label + \"\\n%.3f\" % variable_df.values[i], size=14)\n",
    "        plt.suptitle(plot_title, size=18)\n",
    "    plt.show()  "
   ]
  },
  {
   "cell_type": "code",
   "execution_count": null,
   "metadata": {
    "collapsed": true
   },
   "outputs": [],
   "source": [
    "def epoch_plot():\n",
    "    # A plot of accuracy on the training and validation datasets over training epochs.\n",
    "    sns.set_style(\"dark\")\n",
    "    plt.figure(figsize=(20, 6))\n",
    "\n",
    "    plt.subplot(1,2,1)\n",
    "    plt.plot(history['acc'])\n",
    "    plt.plot(history['val_acc'])\n",
    "    plt.title('Model accuracy', size=18)\n",
    "    plt.ylabel('Accuracy', size=16)\n",
    "    plt.xlabel('Epoch', size=16)\n",
    "    plt.legend(['Train', 'Test'], loc='upper left', fontsize = 14)\n",
    "    plt.tick_params(axis='both', which='major', labelsize=13)\n",
    "\n",
    "    # A plot of loss on the training and validation datasets over training epochs.\n",
    "    plt.subplot(1,2,2)\n",
    "    plt.plot(history['loss'])\n",
    "    plt.plot(history['val_loss'])\n",
    "    plt.title('Model loss', size=18)\n",
    "    plt.ylabel('Loss', size=16)\n",
    "    plt.xlabel('Epoch', size=16)\n",
    "    plt.legend(['Train', 'Test'], loc='upper left', fontsize = 14)\n",
    "    plt.tick_params(axis='both', which='major', labelsize=13)\n",
    "\n",
    "    plt.show()"
   ]
  }
 ],
 "metadata": {
  "kernelspec": {
   "display_name": "Python 2",
   "language": "python",
   "name": "python2"
  },
  "language_info": {
   "codemirror_mode": {
    "name": "ipython",
    "version": 2
   },
   "file_extension": ".py",
   "mimetype": "text/x-python",
   "name": "python",
   "nbconvert_exporter": "python",
   "pygments_lexer": "ipython2",
   "version": "2.7.11"
  }
 },
 "nbformat": 4,
 "nbformat_minor": 0
}
