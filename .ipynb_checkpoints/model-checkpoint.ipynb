{
 "cells": [
  {
   "cell_type": "markdown",
   "metadata": {},
   "source": [
    "### Technical Report\n",
    "*Model*\n",
    "\n",
    "[Problem Statement](tech_report.ipynb) | [Data](tech_report.ipynb) | [EDA](tech_report.ipynb) | [Image preprocessing](tech_report.ipynb) | [Model](#5) | [Results](results.ipynb) | [Summary](results.ipynb)"
   ]
  },
  {
   "cell_type": "markdown",
   "metadata": {},
   "source": [
    "---\n",
    "\n",
    "## <a name=\"5\">Modeling</a>\n",
    "\n",
    "Images are high dimensional data which means many parameters so more simple models are not designed to handle this. Convolution neural networks are well suited for computer vision tasks, so I'll be training a small network from scratch to predict the probability an image is of pizza.\n",
    "\n",
    "For modeling I utilize Keras running on top Tensorflow on a AWS EC2 instance. I use the main type of model — a Sequential model, which is a linear stack of layers. Once defined, I compile the model where I specify the loss function and the optimizer to be used ('binary_crossentropy' and 'rmsprop'). After compiled, the model is fit to data on image generator functions for train and validation data."
   ]
  },
  {
   "cell_type": "code",
   "execution_count": 1,
   "metadata": {
    "collapsed": false
   },
   "outputs": [
    {
     "name": "stderr",
     "output_type": "stream",
     "text": [
      "Using TensorFlow backend.\n"
     ]
    }
   ],
   "source": [
    "from keras.preprocessing import image as image_utils \n",
    "from keras.preprocessing.image import ImageDataGenerator\n",
    "from keras.models import Sequential\n",
    "from keras.layers import Convolution2D, MaxPooling2D\n",
    "from keras.layers import Activation, Dropout, Flatten, Dense\n",
    "from keras.callbacks import ModelCheckpoint"
   ]
  },
  {
   "cell_type": "code",
   "execution_count": 3,
   "metadata": {
    "collapsed": true
   },
   "outputs": [],
   "source": [
    "# path to images for .flow_from_directory() to pass in images\n",
    "train_data_dir = '/home/ubuntu/data/pizza_class_data/train/'\n",
    "validation_data_dir = '/home/ubuntu/data/pizza_class_data/validation'"
   ]
  },
  {
   "cell_type": "markdown",
   "metadata": {},
   "source": [
    "#### Data preparation"
   ]
  },
  {
   "cell_type": "code",
   "execution_count": 4,
   "metadata": {
    "collapsed": false
   },
   "outputs": [],
   "source": [
    "# augmented image generator for training set\n",
    "train = ImageDataGenerator(\n",
    "    rescale=1./255,\n",
    "    rotation_range=90,\n",
    "    shear_range=0.2,\n",
    "    zoom_range=0.2,\n",
    "    horizontal_flip=True,\n",
    "    vertical_flip=True,\n",
    "    width_shift_range=0.2,\n",
    "    height_shift_range=0.2\n",
    ")\n",
    "\n",
    "# augmented image generator for validation set - really only rescaling here\n",
    "test = ImageDataGenerator(\n",
    "    rescale=1./255)"
   ]
  },
  {
   "cell_type": "markdown",
   "metadata": {},
   "source": [
    "#### Generate training images\n",
    "These generator are iterators - returns batches of image samples when requested - get batches of images (and their labels) by calling the .flow_from_directory() function."
   ]
  },
  {
   "cell_type": "code",
   "execution_count": 2,
   "metadata": {
    "collapsed": true
   },
   "outputs": [],
   "source": [
    "# resize images to these dimensions\n",
    "img_width, img_height = 150, 150"
   ]
  },
  {
   "cell_type": "code",
   "execution_count": 5,
   "metadata": {
    "collapsed": false
   },
   "outputs": [
    {
     "name": "stdout",
     "output_type": "stream",
     "text": [
      "Found 3200 images belonging to 2 classes.\n"
     ]
    }
   ],
   "source": [
    "# generates training images\n",
    "train_generator = train.flow_from_directory(\n",
    "        train_data_dir,\n",
    "        target_size=(img_width, img_height),\n",
    "        batch_size=32,\n",
    "        class_mode='binary'\n",
    ")"
   ]
  },
  {
   "cell_type": "code",
   "execution_count": 6,
   "metadata": {
    "collapsed": false
   },
   "outputs": [
    {
     "name": "stdout",
     "output_type": "stream",
     "text": [
      "Found 800 images belonging to 2 classes.\n"
     ]
    }
   ],
   "source": [
    "# generates validation images\n",
    "validation_generator = test.flow_from_directory(\n",
    "        validation_data_dir,\n",
    "        target_size=(img_width, img_height),\n",
    "        batch_size=32,\n",
    "        class_mode='binary')"
   ]
  },
  {
   "cell_type": "markdown",
   "metadata": {
    "collapsed": true
   },
   "source": [
    "#### Instantiate model & layers\n",
    "Four convolutional layers and max-pooling layers plus two fully connected layers. Generally for more complex tasks may want more convolution layers to extract higher and higher level features.\n",
    "\n",
    "###### Convolution layers\n",
    "**nb_filter:** Number of convolutional kernels(filters) to use (dimensionality of the output) = 32\n",
    "- Rough rule for # of filters is the more complex the task, the more filters (but don't need the same number filters for each convolution layer)\n",
    "\n",
    "**filter_length:** convolution filter size (ie n_conv x n_conv) = 3 \n",
    "- Don't want these too large/small or the resulting matrix might not be very meaningful.  \n",
    "\n",
    "###### Pooling layers\n",
    "**pool_size:** tuple of 2 integers, factors by which to downscale (vertical, horizontal). (2, 2) will halve the image in each dimension.\n",
    "- Again shouldn't be too large or lose too much info. \n",
    "- Pooling layer is max pooling, which can be thought of as a “feature detector”\n",
    "\n",
    "**strides:** tuple of 2 integers, or None. Strides values. If None, it will default to pool_size.\n",
    "\n",
    "\n",
    "Note on dim_ordering: \"tf\" mode means that the images should have shape (samples, width, height, channels), \"th\" mode means that the images should have shape (samples, channels, width, height). Default will be \"tf\" in keras config file. "
   ]
  },
  {
   "cell_type": "code",
   "execution_count": 8,
   "metadata": {
    "collapsed": false
   },
   "outputs": [],
   "source": [
    "#instantiate model\n",
    "model = Sequential()\n",
    "\n",
    "# four convolutional & pooling layers\n",
    "model.add(Convolution2D(32, 3, 3, input_shape=(img_width, img_height, 3)))\n",
    "model.add(Activation('relu'))\n",
    "model.add(MaxPooling2D(pool_size=(2, 2)))\n",
    "\n",
    "model.add(Convolution2D(32, 3, 3))\n",
    "model.add(Activation('relu'))\n",
    "model.add(MaxPooling2D(pool_size=(2, 2)))\n",
    "\n",
    "model.add(Convolution2D(64, 3, 3))\n",
    "model.add(Activation('relu'))\n",
    "model.add(MaxPooling2D(pool_size=(2, 2)))\n",
    "\n",
    "model.add(Convolution2D(64, 3, 3))\n",
    "model.add(Activation('relu'))\n",
    "model.add(MaxPooling2D(pool_size=(2, 2)))\n",
    "\n",
    "\n",
    "# two fully-connected layers\n",
    "model.add(Flatten())\n",
    "model.add(Dense(64))\n",
    "model.add(Activation('relu'))\n",
    "\n",
    "model.add(Dropout(0.5))\n",
    "model.add(Dense(1))\n",
    "# sigmoid activation - good for a binary classification\n",
    "model.add(Activation('sigmoid'))"
   ]
  },
  {
   "cell_type": "markdown",
   "metadata": {},
   "source": [
    "#### Compile model\n",
    "\n",
    "Keras will compile the model using whatever backend we have configured (Theano or TensorFlow). Specify the loss function we want to optimize — categorical cross-entropy, which is the standard loss function for multiclass classification because it's well-suited to comparing two probability distributions.\n",
    "\n",
    "Also specify the particular optimization (how different your predicted distribution is from the actual distribution) method to use, rmsprop —  which adapts the learning rate based on how training is going and improves the training process. "
   ]
  },
  {
   "cell_type": "code",
   "execution_count": 9,
   "metadata": {
    "collapsed": true
   },
   "outputs": [],
   "source": [
    "# configure model's learning process\n",
    "model.compile(loss='binary_crossentropy',\n",
    "              optimizer='rmsprop',\n",
    "              metrics=['accuracy'])"
   ]
  },
  {
   "cell_type": "code",
   "execution_count": 10,
   "metadata": {
    "collapsed": false
   },
   "outputs": [],
   "source": [
    "# ModelCheckpoint automatically save the model with the highest validation accuracy\n",
    "filepath=\"weights.best.hdf5\"\n",
    "checkpoint = ModelCheckpoint(filepath, monitor='val_acc', verbose=1, save_best_only=True, mode='max')\n",
    "callbacks_list = [checkpoint]"
   ]
  },
  {
   "cell_type": "markdown",
   "metadata": {},
   "source": [
    "#### Fit model\n",
    "Fit model on data generated batch-by-batch by data generator - generator runs in parallel to the model, for efficiency - this allows you to do real-time data augmentation on images in parallel to training your model\n"
   ]
  },
  {
   "cell_type": "code",
   "execution_count": 11,
   "metadata": {
    "collapsed": false,
    "scrolled": false
   },
   "outputs": [
    {
     "name": "stdout",
     "output_type": "stream",
     "text": [
      "Epoch 1/100\n",
      "3200/3200 [==============================] - 31s - loss: 0.6783 - acc: 0.5791 - val_loss: 0.6214 - val_acc: 0.6362\n",
      "Epoch 2/100\n",
      "3200/3200 [==============================] - 29s - loss: 0.6245 - acc: 0.6650 - val_loss: 0.5831 - val_acc: 0.6875\n",
      "Epoch 3/100\n",
      "3200/3200 [==============================] - 29s - loss: 0.5958 - acc: 0.7072 - val_loss: 0.5407 - val_acc: 0.7163\n",
      "Epoch 4/100\n",
      "3200/3200 [==============================] - 28s - loss: 0.5710 - acc: 0.7222 - val_loss: 0.5689 - val_acc: 0.6900\n",
      "Epoch 5/100\n",
      "3200/3200 [==============================] - 29s - loss: 0.5608 - acc: 0.7256 - val_loss: 0.5286 - val_acc: 0.7188\n",
      "Epoch 6/100\n",
      "3200/3200 [==============================] - 29s - loss: 0.5356 - acc: 0.7441 - val_loss: 0.6456 - val_acc: 0.6875\n",
      "Epoch 7/100\n",
      "3200/3200 [==============================] - 28s - loss: 0.5363 - acc: 0.7381 - val_loss: 0.4407 - val_acc: 0.8125\n",
      "Epoch 8/100\n",
      "3200/3200 [==============================] - 28s - loss: 0.5264 - acc: 0.7478 - val_loss: 0.4925 - val_acc: 0.7612\n",
      "Epoch 9/100\n",
      "3200/3200 [==============================] - 28s - loss: 0.5182 - acc: 0.7572 - val_loss: 0.4450 - val_acc: 0.7937\n",
      "Epoch 10/100\n",
      "3200/3200 [==============================] - 29s - loss: 0.5118 - acc: 0.7522 - val_loss: 0.4692 - val_acc: 0.7800\n",
      "Epoch 11/100\n",
      "3200/3200 [==============================] - 28s - loss: 0.5063 - acc: 0.7628 - val_loss: 0.4693 - val_acc: 0.7825\n",
      "Epoch 12/100\n",
      "3200/3200 [==============================] - 29s - loss: 0.4892 - acc: 0.7694 - val_loss: 0.6141 - val_acc: 0.6987\n",
      "Epoch 13/100\n",
      "3200/3200 [==============================] - 28s - loss: 0.4826 - acc: 0.7738 - val_loss: 0.4232 - val_acc: 0.8175\n",
      "Epoch 14/100\n",
      "3200/3200 [==============================] - 29s - loss: 0.4763 - acc: 0.7784 - val_loss: 0.4157 - val_acc: 0.8187\n",
      "Epoch 15/100\n",
      "3200/3200 [==============================] - 29s - loss: 0.4767 - acc: 0.7762 - val_loss: 0.4386 - val_acc: 0.8025\n",
      "Epoch 16/100\n",
      "3200/3200 [==============================] - 29s - loss: 0.4737 - acc: 0.7884 - val_loss: 0.4405 - val_acc: 0.7975\n",
      "Epoch 17/100\n",
      "3200/3200 [==============================] - 29s - loss: 0.4571 - acc: 0.7975 - val_loss: 0.5398 - val_acc: 0.7562\n",
      "Epoch 18/100\n",
      "3200/3200 [==============================] - 29s - loss: 0.4624 - acc: 0.7853 - val_loss: 0.3993 - val_acc: 0.8325\n",
      "Epoch 19/100\n",
      "3200/3200 [==============================] - 29s - loss: 0.4489 - acc: 0.8000 - val_loss: 0.4593 - val_acc: 0.7887\n",
      "Epoch 20/100\n",
      "3200/3200 [==============================] - 29s - loss: 0.4586 - acc: 0.7891 - val_loss: 0.4019 - val_acc: 0.8250\n",
      "Epoch 21/100\n",
      "3200/3200 [==============================] - 29s - loss: 0.4468 - acc: 0.7991 - val_loss: 0.4136 - val_acc: 0.8150\n",
      "Epoch 22/100\n",
      "3200/3200 [==============================] - 29s - loss: 0.4397 - acc: 0.7984 - val_loss: 0.4175 - val_acc: 0.8187\n",
      "Epoch 23/100\n",
      "3200/3200 [==============================] - 29s - loss: 0.4400 - acc: 0.8059 - val_loss: 0.3978 - val_acc: 0.8337\n",
      "Epoch 24/100\n",
      "3200/3200 [==============================] - 29s - loss: 0.4324 - acc: 0.8075 - val_loss: 0.3739 - val_acc: 0.8375\n",
      "Epoch 25/100\n",
      "3200/3200 [==============================] - 29s - loss: 0.4367 - acc: 0.8016 - val_loss: 0.3877 - val_acc: 0.8300\n",
      "Epoch 26/100\n",
      "3200/3200 [==============================] - 29s - loss: 0.4265 - acc: 0.8019 - val_loss: 0.4220 - val_acc: 0.8087\n",
      "Epoch 27/100\n",
      "3200/3200 [==============================] - 28s - loss: 0.4314 - acc: 0.8106 - val_loss: 0.3648 - val_acc: 0.8462\n",
      "Epoch 28/100\n",
      "3200/3200 [==============================] - 29s - loss: 0.4190 - acc: 0.8125 - val_loss: 0.4102 - val_acc: 0.8200\n",
      "Epoch 29/100\n",
      "3200/3200 [==============================] - 29s - loss: 0.4182 - acc: 0.8125 - val_loss: 0.4418 - val_acc: 0.8025\n",
      "Epoch 30/100\n",
      "3200/3200 [==============================] - 29s - loss: 0.4336 - acc: 0.8156 - val_loss: 0.3686 - val_acc: 0.8400\n",
      "Epoch 31/100\n",
      "3200/3200 [==============================] - 29s - loss: 0.4220 - acc: 0.8147 - val_loss: 0.4130 - val_acc: 0.8113\n",
      "Epoch 32/100\n",
      "3200/3200 [==============================] - 29s - loss: 0.4199 - acc: 0.8162 - val_loss: 0.4423 - val_acc: 0.8037\n",
      "Epoch 33/100\n",
      "3200/3200 [==============================] - 29s - loss: 0.4175 - acc: 0.8213 - val_loss: 0.3690 - val_acc: 0.8438\n",
      "Epoch 34/100\n",
      "3200/3200 [==============================] - 29s - loss: 0.4077 - acc: 0.8284 - val_loss: 0.3714 - val_acc: 0.8512\n",
      "Epoch 35/100\n",
      "3200/3200 [==============================] - 29s - loss: 0.3991 - acc: 0.8238 - val_loss: 0.3988 - val_acc: 0.8350\n",
      "Epoch 36/100\n",
      "3200/3200 [==============================] - 29s - loss: 0.4062 - acc: 0.8247 - val_loss: 0.3846 - val_acc: 0.8462\n",
      "Epoch 37/100\n",
      "3200/3200 [==============================] - 29s - loss: 0.3989 - acc: 0.8216 - val_loss: 0.3642 - val_acc: 0.8512\n",
      "Epoch 38/100\n",
      "3200/3200 [==============================] - 29s - loss: 0.3992 - acc: 0.8294 - val_loss: 0.3791 - val_acc: 0.8462\n",
      "Epoch 39/100\n",
      "3200/3200 [==============================] - 29s - loss: 0.4160 - acc: 0.8203 - val_loss: 0.3959 - val_acc: 0.8263\n",
      "Epoch 40/100\n",
      "3200/3200 [==============================] - 29s - loss: 0.4056 - acc: 0.8287 - val_loss: 0.3681 - val_acc: 0.8488\n",
      "Epoch 41/100\n",
      "3200/3200 [==============================] - 29s - loss: 0.4028 - acc: 0.8206 - val_loss: 0.3739 - val_acc: 0.8462\n",
      "Epoch 42/100\n",
      "3200/3200 [==============================] - 29s - loss: 0.3869 - acc: 0.8347 - val_loss: 0.4695 - val_acc: 0.8050\n",
      "Epoch 43/100\n",
      "3200/3200 [==============================] - 29s - loss: 0.4021 - acc: 0.8394 - val_loss: 0.3594 - val_acc: 0.8550\n",
      "Epoch 44/100\n",
      "3200/3200 [==============================] - 29s - loss: 0.4024 - acc: 0.8263 - val_loss: 0.3628 - val_acc: 0.8550\n",
      "Epoch 45/100\n",
      "3200/3200 [==============================] - 29s - loss: 0.3863 - acc: 0.8369 - val_loss: 0.3817 - val_acc: 0.8337\n",
      "Epoch 46/100\n",
      "3200/3200 [==============================] - 29s - loss: 0.3915 - acc: 0.8312 - val_loss: 0.3654 - val_acc: 0.8575\n",
      "Epoch 47/100\n",
      "3200/3200 [==============================] - 29s - loss: 0.3902 - acc: 0.8300 - val_loss: 0.3910 - val_acc: 0.8375\n",
      "Epoch 48/100\n",
      "3200/3200 [==============================] - 29s - loss: 0.3868 - acc: 0.8344 - val_loss: 0.3486 - val_acc: 0.8538\n",
      "Epoch 49/100\n",
      "3200/3200 [==============================] - 29s - loss: 0.3762 - acc: 0.8322 - val_loss: 0.3906 - val_acc: 0.8425\n",
      "Epoch 50/100\n",
      "3200/3200 [==============================] - 29s - loss: 0.3999 - acc: 0.8325 - val_loss: 0.3618 - val_acc: 0.8500\n",
      "Epoch 51/100\n",
      "3200/3200 [==============================] - 29s - loss: 0.3881 - acc: 0.8363 - val_loss: 0.3444 - val_acc: 0.8738\n",
      "Epoch 52/100\n",
      "3200/3200 [==============================] - 29s - loss: 0.3822 - acc: 0.8419 - val_loss: 0.3471 - val_acc: 0.8575\n",
      "Epoch 53/100\n",
      "3200/3200 [==============================] - 29s - loss: 0.3773 - acc: 0.8384 - val_loss: 0.3394 - val_acc: 0.8700\n",
      "Epoch 54/100\n",
      "3200/3200 [==============================] - 29s - loss: 0.3795 - acc: 0.8353 - val_loss: 0.3385 - val_acc: 0.8650\n",
      "Epoch 55/100\n",
      "3200/3200 [==============================] - 28s - loss: 0.3737 - acc: 0.8341 - val_loss: 0.3353 - val_acc: 0.8775\n",
      "Epoch 56/100\n",
      "3200/3200 [==============================] - 28s - loss: 0.3793 - acc: 0.8406 - val_loss: 0.3414 - val_acc: 0.8700\n",
      "Epoch 57/100\n",
      "3200/3200 [==============================] - 28s - loss: 0.3816 - acc: 0.8441 - val_loss: 0.3449 - val_acc: 0.8688\n",
      "Epoch 58/100\n",
      "3200/3200 [==============================] - 29s - loss: 0.3748 - acc: 0.8431 - val_loss: 0.3324 - val_acc: 0.8712\n",
      "Epoch 59/100\n",
      "3200/3200 [==============================] - 29s - loss: 0.3699 - acc: 0.8425 - val_loss: 0.3532 - val_acc: 0.8688\n",
      "Epoch 60/100\n",
      "3200/3200 [==============================] - 29s - loss: 0.3774 - acc: 0.8428 - val_loss: 0.3355 - val_acc: 0.8625\n",
      "Epoch 61/100\n",
      "3200/3200 [==============================] - 29s - loss: 0.3759 - acc: 0.8472 - val_loss: 0.3365 - val_acc: 0.8650\n",
      "Epoch 62/100\n",
      "3200/3200 [==============================] - 29s - loss: 0.3623 - acc: 0.8466 - val_loss: 0.3273 - val_acc: 0.8725\n",
      "Epoch 63/100\n",
      "3200/3200 [==============================] - 29s - loss: 0.3792 - acc: 0.8347 - val_loss: 0.3789 - val_acc: 0.8512\n",
      "Epoch 64/100\n",
      "3200/3200 [==============================] - 29s - loss: 0.3848 - acc: 0.8391 - val_loss: 0.3515 - val_acc: 0.8575\n",
      "Epoch 65/100\n",
      "3200/3200 [==============================] - 29s - loss: 0.3683 - acc: 0.8372 - val_loss: 0.3573 - val_acc: 0.8600\n",
      "Epoch 66/100\n",
      "3200/3200 [==============================] - 29s - loss: 0.3728 - acc: 0.8391 - val_loss: 0.3238 - val_acc: 0.8738\n",
      "Epoch 67/100\n",
      "3200/3200 [==============================] - 29s - loss: 0.3939 - acc: 0.8397 - val_loss: 0.3410 - val_acc: 0.8600\n",
      "Epoch 68/100\n",
      "3200/3200 [==============================] - 29s - loss: 0.3866 - acc: 0.8481 - val_loss: 0.4069 - val_acc: 0.8413\n",
      "Epoch 69/100\n",
      "3200/3200 [==============================] - 29s - loss: 0.3701 - acc: 0.8506 - val_loss: 0.3181 - val_acc: 0.8700\n",
      "Epoch 70/100\n",
      "3200/3200 [==============================] - 29s - loss: 0.3730 - acc: 0.8359 - val_loss: 0.6086 - val_acc: 0.7562\n",
      "Epoch 71/100\n",
      "3200/3200 [==============================] - 29s - loss: 0.3843 - acc: 0.8403 - val_loss: 0.3367 - val_acc: 0.8625\n",
      "Epoch 72/100\n",
      "3200/3200 [==============================] - 29s - loss: 0.3651 - acc: 0.8466 - val_loss: 0.3189 - val_acc: 0.8762\n",
      "Epoch 73/100\n",
      "3200/3200 [==============================] - 29s - loss: 0.3811 - acc: 0.8306 - val_loss: 0.3189 - val_acc: 0.8650\n",
      "Epoch 74/100\n",
      "3200/3200 [==============================] - 29s - loss: 0.3689 - acc: 0.8475 - val_loss: 0.3120 - val_acc: 0.8775\n",
      "Epoch 75/100\n",
      "3200/3200 [==============================] - 29s - loss: 0.3661 - acc: 0.8350 - val_loss: 0.3336 - val_acc: 0.8700\n",
      "Epoch 76/100\n",
      "3200/3200 [==============================] - 29s - loss: 0.3737 - acc: 0.8503 - val_loss: 0.3283 - val_acc: 0.8750\n",
      "Epoch 77/100\n",
      "3200/3200 [==============================] - 29s - loss: 0.3702 - acc: 0.8462 - val_loss: 0.3571 - val_acc: 0.8650\n",
      "Epoch 78/100\n",
      "3200/3200 [==============================] - 29s - loss: 0.3744 - acc: 0.8441 - val_loss: 0.3418 - val_acc: 0.8575\n",
      "Epoch 79/100\n",
      "3200/3200 [==============================] - 29s - loss: 0.3645 - acc: 0.8422 - val_loss: 0.3355 - val_acc: 0.8712\n",
      "Epoch 80/100\n",
      "3200/3200 [==============================] - 29s - loss: 0.3792 - acc: 0.8431 - val_loss: 0.3446 - val_acc: 0.8662\n",
      "Epoch 81/100\n",
      "3200/3200 [==============================] - 29s - loss: 0.3837 - acc: 0.8428 - val_loss: 0.3207 - val_acc: 0.8775\n",
      "Epoch 82/100\n",
      "3200/3200 [==============================] - 29s - loss: 0.3810 - acc: 0.8416 - val_loss: 0.3498 - val_acc: 0.8600\n",
      "Epoch 83/100\n",
      "3200/3200 [==============================] - 29s - loss: 0.3726 - acc: 0.8503 - val_loss: 0.3246 - val_acc: 0.8638\n",
      "Epoch 84/100\n",
      "3200/3200 [==============================] - 29s - loss: 0.3738 - acc: 0.8475 - val_loss: 0.3536 - val_acc: 0.8562\n",
      "Epoch 85/100\n",
      "3200/3200 [==============================] - 29s - loss: 0.3721 - acc: 0.8484 - val_loss: 0.3126 - val_acc: 0.8812\n",
      "Epoch 86/100\n",
      "3200/3200 [==============================] - 29s - loss: 0.3779 - acc: 0.8503 - val_loss: 0.3642 - val_acc: 0.8550\n",
      "Epoch 87/100\n",
      "3200/3200 [==============================] - 29s - loss: 0.3755 - acc: 0.8419 - val_loss: 0.3994 - val_acc: 0.8250\n",
      "Epoch 88/100\n",
      "3200/3200 [==============================] - 29s - loss: 0.3796 - acc: 0.8394 - val_loss: 0.4695 - val_acc: 0.8113\n",
      "Epoch 89/100\n",
      "3200/3200 [==============================] - 29s - loss: 0.3689 - acc: 0.8522 - val_loss: 0.3898 - val_acc: 0.8512\n",
      "Epoch 90/100\n",
      "3200/3200 [==============================] - 29s - loss: 0.3585 - acc: 0.8512 - val_loss: 0.3342 - val_acc: 0.8750\n",
      "Epoch 91/100\n",
      "3200/3200 [==============================] - 29s - loss: 0.3726 - acc: 0.8466 - val_loss: 0.3549 - val_acc: 0.8650\n",
      "Epoch 92/100\n",
      "3200/3200 [==============================] - 29s - loss: 0.3649 - acc: 0.8516 - val_loss: 0.3294 - val_acc: 0.8662\n",
      "Epoch 93/100\n",
      "3200/3200 [==============================] - 29s - loss: 0.3692 - acc: 0.8484 - val_loss: 0.3281 - val_acc: 0.8800\n",
      "Epoch 94/100\n",
      "3200/3200 [==============================] - 29s - loss: 0.3657 - acc: 0.8494 - val_loss: 0.3791 - val_acc: 0.8263\n",
      "Epoch 95/100\n",
      "3200/3200 [==============================] - 29s - loss: 0.3746 - acc: 0.8419 - val_loss: 0.3332 - val_acc: 0.8712\n",
      "Epoch 96/100\n",
      "3200/3200 [==============================] - 29s - loss: 0.3788 - acc: 0.8419 - val_loss: 0.4065 - val_acc: 0.8225\n",
      "Epoch 97/100\n",
      "3200/3200 [==============================] - 29s - loss: 0.3805 - acc: 0.8503 - val_loss: 0.3539 - val_acc: 0.8562\n",
      "Epoch 98/100\n",
      "3200/3200 [==============================] - 29s - loss: 0.3656 - acc: 0.8484 - val_loss: 0.3178 - val_acc: 0.8775\n",
      "Epoch 99/100\n",
      "3200/3200 [==============================] - 29s - loss: 0.3621 - acc: 0.8578 - val_loss: 0.3759 - val_acc: 0.8475\n",
      "Epoch 100/100\n",
      "3200/3200 [==============================] - 29s - loss: 0.3733 - acc: 0.8500 - val_loss: 0.3457 - val_acc: 0.8725\n"
     ]
    }
   ],
   "source": [
    "pizza_model = model.fit_generator(\n",
    "    \n",
    "        train_generator,\n",
    "        # number of training samples\n",
    "        samples_per_epoch=3200,\n",
    "    \n",
    "        nb_epoch=100,\n",
    "    \n",
    "        validation_data=validation_generator,\n",
    "        # number of training samples\n",
    "        nb_val_samples=800)"
   ]
  },
  {
   "cell_type": "code",
   "execution_count": 15,
   "metadata": {
    "collapsed": false
   },
   "outputs": [],
   "source": [
    "# save model to JSON\n",
    "pizza_model_json = model.to_json()\n",
    "with open(\"pizza_model.json\", \"w\") as json_file:\n",
    "    json_file.write(pizza_model_json)"
   ]
  },
  {
   "cell_type": "code",
   "execution_count": 16,
   "metadata": {
    "collapsed": true
   },
   "outputs": [],
   "source": [
    "# save weights to HDF5\n",
    "model.save_weights(\"pizza_model.h5\")"
   ]
  },
  {
   "cell_type": "code",
   "execution_count": null,
   "metadata": {
    "collapsed": true
   },
   "outputs": [],
   "source": []
  }
 ],
 "metadata": {
  "kernelspec": {
   "display_name": "Python 2",
   "language": "python",
   "name": "python2"
  },
  "language_info": {
   "codemirror_mode": {
    "name": "ipython",
    "version": 2
   },
   "file_extension": ".py",
   "mimetype": "text/x-python",
   "name": "python",
   "nbconvert_exporter": "python",
   "pygments_lexer": "ipython2",
   "version": "2.7.11"
  }
 },
 "nbformat": 4,
 "nbformat_minor": 1
}
